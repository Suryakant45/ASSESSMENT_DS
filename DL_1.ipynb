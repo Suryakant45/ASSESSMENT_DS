{
 "cells": [
  {
   "cell_type": "markdown",
   "id": "3205de42",
   "metadata": {},
   "source": [
    "# Question: 1\n",
    "\n",
    "**(a) Explain how you can implement DL in a real-world application.**\n",
    "\n",
    "**(b) What is the use of Activation function in Artificial Neural Networks? What would be the problem if we don't use it in ANN networks.**"
   ]
  },
  {
   "cell_type": "markdown",
   "id": "0b4d85bc",
   "metadata": {},
   "source": [
    "(a) Steps:\n",
    "\n",
    "1. Define the Problem: Understand what you want to solve.\n",
    "\n",
    "2. Collect Data: Get a lot of relevant information.\n",
    "\n",
    "3. Preprocess Data: Clean and organize the data.\n",
    "\n",
    "4. Choose a Model: Pick a suitable deep learning design.\n",
    "\n",
    "5. Build the Model: Create the neural network using a special framework.\n",
    "\n",
    "6. Train the Model: Teach the model by using the data.\n",
    "\n",
    "7. Evaluate and Optimize: Check how well it works and make it better.\n",
    "\n",
    "8. Deploy the Model: Use the trained model in your real-world application.\n",
    "\n"
   ]
  },
  {
   "cell_type": "markdown",
   "id": "053733aa",
   "metadata": {},
   "source": [
    "(b) Activation Function in Neural Networks:\n",
    "\n",
    "1. Purpose:\n",
    "\n",
    "Add Complexity: Helps the neural network understand complicated patterns.\n",
    "\n",
    "Enable Learning: Allows the network to adjust and learn from the data.\n",
    "\n",
    "2. Problem Without Activation Function:\n",
    "\n",
    "Limited Power: The network becomes too simple, like a basic linear model.\n",
    "\n",
    "Ineffective Learning: Hard to learn and adapt to the complexities of the data."
   ]
  },
  {
   "cell_type": "code",
   "execution_count": null,
   "id": "90d9524b",
   "metadata": {},
   "outputs": [],
   "source": []
  }
 ],
 "metadata": {
  "kernelspec": {
   "display_name": "Python 3 (ipykernel)",
   "language": "python",
   "name": "python3"
  },
  "language_info": {
   "codemirror_mode": {
    "name": "ipython",
    "version": 3
   },
   "file_extension": ".py",
   "mimetype": "text/x-python",
   "name": "python",
   "nbconvert_exporter": "python",
   "pygments_lexer": "ipython3",
   "version": "3.10.9"
  }
 },
 "nbformat": 4,
 "nbformat_minor": 5
}
