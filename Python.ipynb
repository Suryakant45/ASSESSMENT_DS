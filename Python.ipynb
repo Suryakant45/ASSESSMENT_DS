{
 "cells": [
  {
   "cell_type": "markdown",
   "id": "b844b970",
   "metadata": {},
   "source": [
    "# Question: 1\n",
    "\n",
    "\n",
    "You have an input dictionary given,\n",
    "\n",
    "input_dict = {\"abc\":{\"def\":{\"ghi\":{\"jkl\":{\"mno\":{\"pqr\":{\"stu\":{\"vwx\":{\"yz\":\"you are finally here !!!\"}}}}}}}}}\n",
    "\n",
    "Task:  You have to write a Python function that will take this input and print it like that,\n",
    "\n",
    "output = {\"abc\":[\"def\",\"ghi\",\"jkl\",\"mno\",\"pqr\",\"stu\",\"vwx\",\"yz\"],\n",
    " \"def\":[\"ghi\",\"jkl\",\"mno\",\"pqr\",\"stu\",\"vwx\",\"yz\"],\n",
    " \"ghi\":[\"jkl\",\"mno\",\"pqr\",\"stu\",\"vwx\",\"yz\"],\n",
    " \"jkl\":[\"mno\",\"pqr\",\"stu\",\"vwx\",\"yz\"],\n",
    " \"mno\":[\"pqr\",\"stu\",\"vwx\",\"yz\"],\n",
    " \"pqr\":[\"stu\",\"vwx\",\"yz\"],\n",
    " \"stu\":[\"vwx\",\"yz\"],\n",
    " \"vwx\":[\"yz\"],\n",
    " \"yz\":[\"you are finally here !!!\"]}\n"
   ]
  },
  {
   "cell_type": "code",
   "execution_count": 1,
   "id": "0b018d76",
   "metadata": {},
   "outputs": [],
   "source": [
    "def transform_dict(input_dict, prefix=None):\n",
    "    if prefix is None:\n",
    "        prefix = []\n",
    "\n",
    "    output = {}\n",
    "\n",
    "    for key, value in input_dict.items():\n",
    "        new_prefix = prefix + [key]\n",
    "        if isinstance(value, dict):\n",
    "            sub_dict = transform_dict(value, new_prefix)\n",
    "            output[key] = list(sub_dict.keys())\n",
    "            output.update(sub_dict)\n",
    "        else:\n",
    "            output[key] = [repr(value).strip(\"'\")]\n",
    "\n",
    "    return output"
   ]
  },
  {
   "cell_type": "code",
   "execution_count": 2,
   "id": "17e88013",
   "metadata": {},
   "outputs": [],
   "source": [
    "input_dict = {\"abc\":{\"def\":{\"ghi\":{\"jkl\":{\"mno\":{\"pqr\":{\"stu\":{\"vwx\":{\"yz\":\"you are finally here !!!\"}}}}}}}}}"
   ]
  },
  {
   "cell_type": "code",
   "execution_count": 3,
   "id": "6f27411f",
   "metadata": {},
   "outputs": [
    {
     "name": "stdout",
     "output_type": "stream",
     "text": [
      "'abc': ['def', 'ghi', 'jkl', 'mno', 'pqr', 'stu', 'vwx', 'yz']\n",
      "'def': ['ghi', 'jkl', 'mno', 'pqr', 'stu', 'vwx', 'yz']\n",
      "'ghi': ['jkl', 'mno', 'pqr', 'stu', 'vwx', 'yz']\n",
      "'jkl': ['mno', 'pqr', 'stu', 'vwx', 'yz']\n",
      "'mno': ['pqr', 'stu', 'vwx', 'yz']\n",
      "'pqr': ['stu', 'vwx', 'yz']\n",
      "'stu': ['vwx', 'yz']\n",
      "'vwx': ['yz']\n",
      "'yz': ['you are finally here !!!']\n"
     ]
    }
   ],
   "source": [
    "output = transform_dict(input_dict)\n",
    "\n",
    "for key, value in output.items():\n",
    "    print(f\"{repr(key)}: {value}\")"
   ]
  },
  {
   "cell_type": "code",
   "execution_count": null,
   "id": "db9bd4e6",
   "metadata": {},
   "outputs": [],
   "source": [
    "# Question: 2\n",
    "\n",
    "\n",
    "Given an array of length ‘N’, where each element denotes the position of a stall. Now you have ‘N’ stalls and an integer ‘K’ which denotes the number of horses that are mad. To prevent the horses from hurting each other, you need to assign the horses to the stalls, such that the minimum distance between any two of them is as large as possible. Return the largest minimum distance.\n",
    "\n",
    "array: 1,2,4,8,9  &  k=3\n",
    "\n",
    "O/P: 3\n",
    "\n",
    "Explanation: 1st horse at stall 1, 2nd horse at stall 4 and 3rd horse at stall 8"
   ]
  },
  {
   "cell_type": "code",
   "execution_count": 1,
   "id": "7b1aace1",
   "metadata": {},
   "outputs": [],
   "source": [
    "def max_min_distance(stalls, k):\n",
    "    stalls.sort()\n",
    "\n",
    "    def is_valid(mid):\n",
    "        count_horses = 1\n",
    "        last_position = stalls[0]\n",
    "\n",
    "        for stall in stalls:\n",
    "            if stall - last_position >= mid:\n",
    "                count_horses += 1\n",
    "                last_position = stall\n",
    "\n",
    "        return count_horses >= k\n",
    "\n",
    "    left, right = 0, stalls[-1] - stalls[0]\n",
    "\n",
    "    while left < right:\n",
    "        mid = (left + right) // 2\n",
    "\n",
    "        if is_valid(mid):\n",
    "            left = mid + 1\n",
    "        else:\n",
    "            right = mid\n",
    "\n",
    "    return left - 1"
   ]
  },
  {
   "cell_type": "code",
   "execution_count": 2,
   "id": "9d8cbe3e",
   "metadata": {},
   "outputs": [
    {
     "ename": "NameError",
     "evalue": "name 'stalls' is not defined",
     "output_type": "error",
     "traceback": [
      "\u001b[1;31m---------------------------------------------------------------------------\u001b[0m",
      "\u001b[1;31mNameError\u001b[0m                                 Traceback (most recent call last)",
      "Cell \u001b[1;32mIn[2], line 3\u001b[0m\n\u001b[0;32m      1\u001b[0m stlls \u001b[38;5;241m=\u001b[39m [\u001b[38;5;241m1\u001b[39m, \u001b[38;5;241m2\u001b[39m, \u001b[38;5;241m4\u001b[39m, \u001b[38;5;241m8\u001b[39m, \u001b[38;5;241m9\u001b[39m]\n\u001b[0;32m      2\u001b[0m k \u001b[38;5;241m=\u001b[39m \u001b[38;5;241m3\u001b[39m\n\u001b[1;32m----> 3\u001b[0m result \u001b[38;5;241m=\u001b[39m max_min_distance(\u001b[43mstalls\u001b[49m, k)\n\u001b[0;32m      4\u001b[0m \u001b[38;5;28mprint\u001b[39m(result)\n",
      "\u001b[1;31mNameError\u001b[0m: name 'stalls' is not defined"
     ]
    }
   ],
   "source": [
    "stlls = [1, 2, 4, 8, 9]\n",
    "k = 3\n",
    "result = max_min_distance(stalls, k)\n",
    "print(result)"
   ]
  },
  {
   "cell_type": "code",
   "execution_count": 3,
   "id": "688e00e7",
   "metadata": {},
   "outputs": [
    {
     "ename": "SyntaxError",
     "evalue": "unmatched ')' (1222151467.py, line 5)",
     "output_type": "error",
     "traceback": [
      "\u001b[1;36m  Cell \u001b[1;32mIn[3], line 5\u001b[1;36m\u001b[0m\n\u001b[1;33m    a) Mat size must be N X M. (N is an odd natural number, and M is 3 times N.)\u001b[0m\n\u001b[1;37m     ^\u001b[0m\n\u001b[1;31mSyntaxError\u001b[0m\u001b[1;31m:\u001b[0m unmatched ')'\n"
     ]
    }
   ],
   "source": [
    "# Question: 3\n",
    "\n",
    "Mr. Karthiken works in a door mat manufacturing company. One day, he designed a new door mat with the following specifications:\n",
    "\n",
    "a) Mat size must be N X M. (N is an odd natural number, and M is 3 times N.)\n",
    "b) The design should have ‘WELCOME’ written in the center.\n",
    "c) The design pattern should only use |, . and – characters.\n",
    "\n",
    "Sample Design is given above image, Write a python code for this."
   ]
  },
  {
   "cell_type": "code",
   "execution_count": 4,
   "id": "39b77cec",
   "metadata": {},
   "outputs": [],
   "source": [
    "def door_mat_pattern(N, M):\n",
    "   \n",
    "    for i in range(1, N, 2):\n",
    "        pattern = \".|.\" * i\n",
    "        print(pattern.center(M, '-'))\n",
    "\n",
    "    \n",
    "    print(\"WELCOME\".center(M, '-'))\n",
    "\n",
    "    \n",
    "    for i in range(N - 2, 0, -2):\n",
    "        pattern = \".|.\" * i\n",
    "        print(pattern.center(M, '-'))"
   ]
  },
  {
   "cell_type": "code",
   "execution_count": 5,
   "id": "43d96e99",
   "metadata": {},
   "outputs": [
    {
     "name": "stdout",
     "output_type": "stream",
     "text": [
      "---------.|.---------\n",
      "------.|..|..|.------\n",
      "---.|..|..|..|..|.---\n",
      "-------WELCOME-------\n",
      "---.|..|..|..|..|.---\n",
      "------.|..|..|.------\n",
      "---------.|.---------\n"
     ]
    }
   ],
   "source": [
    "N = 7\n",
    "M = 21\n",
    "door_mat_pattern(N, M)"
   ]
  },
  {
   "cell_type": "code",
   "execution_count": 6,
   "id": "6b552a1c",
   "metadata": {},
   "outputs": [
    {
     "name": "stdout",
     "output_type": "stream",
     "text": [
      "---------------.|.---------------\n",
      "------------.|..|..|.------------\n",
      "---------.|..|..|..|..|.---------\n",
      "------.|..|..|..|..|..|..|.------\n",
      "---.|..|..|..|..|..|..|..|..|.---\n",
      "-------------WELCOME-------------\n",
      "---.|..|..|..|..|..|..|..|..|.---\n",
      "------.|..|..|..|..|..|..|.------\n",
      "---------.|..|..|..|..|.---------\n",
      "------------.|..|..|.------------\n",
      "---------------.|.---------------\n"
     ]
    }
   ],
   "source": [
    "N = 11\n",
    "M = 33\n",
    "door_mat_pattern(N, M)"
   ]
  },
  {
   "cell_type": "code",
   "execution_count": 7,
   "id": "f64d2f9c",
   "metadata": {},
   "outputs": [
    {
     "ename": "SyntaxError",
     "evalue": "unmatched ')' (469377047.py, line 5)",
     "output_type": "error",
     "traceback": [
      "\u001b[1;36m  Cell \u001b[1;32mIn[7], line 5\u001b[1;36m\u001b[0m\n\u001b[1;33m    a) 0 <= a, b, c, d < n\u001b[0m\n\u001b[1;37m     ^\u001b[0m\n\u001b[1;31mSyntaxError\u001b[0m\u001b[1;31m:\u001b[0m unmatched ')'\n"
     ]
    }
   ],
   "source": [
    "# Question: 4\n",
    "\n",
    "Given an array nums of n integers, return an array of all the unique quadruplets [nums[a], nums[b], nums[c], nums[d]] such that:\n",
    "\n",
    "a) 0 <= a, b, c, d < n\n",
    "b) a, b, c, and d are distinct.\n",
    "c) nums[a] + nums[b] + nums[c] + nums[d] == target"
   ]
  },
  {
   "cell_type": "code",
   "execution_count": 8,
   "id": "287a0d9d",
   "metadata": {},
   "outputs": [],
   "source": [
    "def four_sum(nums, target):\n",
    "    nums.sort()\n",
    "    result = []\n",
    "\n",
    "    for a in range(len(nums) - 3):\n",
    "        if a > 0 and nums[a] == nums[a - 1]:\n",
    "            continue\n",
    "\n",
    "        for b in range(a + 1, len(nums) - 2):\n",
    "            if b > a + 1 and nums[b] == nums[b - 1]:\n",
    "                continue\n",
    "\n",
    "            left, right = b + 1, len(nums) - 1\n",
    "\n",
    "            while left < right:\n",
    "                current_sum = nums[a] + nums[b] + nums[left] + nums[right]\n",
    "\n",
    "                if current_sum == target:\n",
    "                    result.append([nums[a], nums[b], nums[left], nums[right]])\n",
    "\n",
    "                    while left < right and nums[left] == nums[left + 1]:\n",
    "                        left += 1\n",
    "\n",
    "                    while left < right and nums[right] == nums[right - 1]:\n",
    "                        right -= 1\n",
    "\n",
    "                    left += 1\n",
    "                    right -= 1\n",
    "                elif current_sum < target:\n",
    "                    left += 1\n",
    "                else:\n",
    "                    right -= 1\n",
    "\n",
    "    return result"
   ]
  },
  {
   "cell_type": "code",
   "execution_count": 9,
   "id": "4bd63e2e",
   "metadata": {},
   "outputs": [
    {
     "name": "stdout",
     "output_type": "stream",
     "text": [
      "[[-2, -1, 1, 2], [-2, 0, 0, 2], [-1, 0, 0, 1]]\n"
     ]
    }
   ],
   "source": [
    "nums = [1, 0, -1, 0, -2, 2]\n",
    "target = 0\n",
    "result = four_sum(nums, target)\n",
    "print(result)"
   ]
  },
  {
   "cell_type": "code",
   "execution_count": null,
   "id": "bbbec9d5",
   "metadata": {},
   "outputs": [],
   "source": []
  }
 ],
 "metadata": {
  "kernelspec": {
   "display_name": "Python 3 (ipykernel)",
   "language": "python",
   "name": "python3"
  },
  "language_info": {
   "codemirror_mode": {
    "name": "ipython",
    "version": 3
   },
   "file_extension": ".py",
   "mimetype": "text/x-python",
   "name": "python",
   "nbconvert_exporter": "python",
   "pygments_lexer": "ipython3",
   "version": "3.11.1"
  }
 },
 "nbformat": 4,
 "nbformat_minor": 5
}
